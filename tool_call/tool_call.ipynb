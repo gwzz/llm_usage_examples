{
 "cells": [
  {
   "cell_type": "code",
   "execution_count": null,
   "id": "38bba94b",
   "metadata": {},
   "outputs": [],
   "source": [
    "from openai import OpenAI\n",
    "\n",
    "client = OpenAI(\n",
    "    base_url=\"http://192.168.100.30:16001/v1\",\n",
    "    api_key=\"empty\"\n",
    ")\n",
    "\n",
    "tools = [\n",
    "    {\"type\": \"code_interpreter\"},\n",
    "    {\"type\": \"web_search_preview\"},\n",
    "]\n",
    "\n",
    "# Test python tool\n",
    "response = client.responses.create(\n",
    "    model=\"openai/gpt-oss-120b\",\n",
    "    instructions=\"You are a helfpul assistant, you could use python tool to execute code.\",\n",
    "    input=\"Use python tool to calculate the sum of 29138749187 and 29138749187\", # 58,277,498,374\n",
    "    tools=tools\n",
    ")\n",
    "print(\"====== test python tool ======\")\n",
    "print(response.output_text)\n",
    "\n",
    "# Test browser tool\n",
    "response = client.responses.create(\n",
    "    model=\"openai/gpt-oss-120b\",\n",
    "    instructions=\"You are a helfpul assistant, you could use browser to search the web\",\n",
    "    input=\"Search the web for the latest news about Nvidia stock price\",\n",
    "    tools=tools\n",
    ")\n",
    "print(\"====== test browser tool ======\")\n",
    "print(response.output_text)"
   ]
  }
 ],
 "metadata": {
  "language_info": {
   "name": "python"
  }
 },
 "nbformat": 4,
 "nbformat_minor": 5
}
