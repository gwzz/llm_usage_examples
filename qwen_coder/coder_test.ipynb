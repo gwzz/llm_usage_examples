{
 "cells": [
  {
   "cell_type": "code",
   "execution_count": 2,
   "id": "74499b88",
   "metadata": {},
   "outputs": [],
   "source": [
    "from llama_index.core import Settings\n",
    "from llama_index.llms.openai_like import OpenAILike\n",
    "from llama_index.core.llms import ChatMessage, MessageRole\n",
    "\n",
    "## Set models\n",
    "MODEL_NAME   = 'qwen3-coder-480b'\n",
    "LLM_API_BASE = \"http://192.168.100.30:15000/v1\"\n",
    "MAX_TOKENS   = 2048\n",
    "TIME_OUT     = 600\n",
    "\n",
    "Settings.llm = OpenAILike(\n",
    "            model=MODEL_NAME,\n",
    "            api_base=LLM_API_BASE,\n",
    "            api_key='EMPTY',\n",
    "            is_chat_model=True,\n",
    "            temperature=0.6,\n",
    "            max_tokens=MAX_TOKENS,\n",
    "            timeout=TIME_OUT,\n",
    "            # additional_kwargs={\"extra_body\": {\"chat_template_kwargs\": {\"enable_thinking\": False}}},\n",
    "        )"
   ]
  },
  {
   "cell_type": "code",
   "execution_count": 3,
   "id": "abb9b28e",
   "metadata": {},
   "outputs": [
    {
     "name": "stdout",
     "output_type": "stream",
     "text": [
      "assistant: 如果您被诊断出糖尿病，以下是一些重要的应对建议：\n",
      "\n",
      "## 立即行动\n",
      "- **遵医嘱治疗**：严格按照医生的处方用药，不要自行停药或调整剂量\n",
      "- **定期监测**：学会使用血糖仪，按医生要求监测血糖水平\n",
      "- **复诊跟进**：按时回医院复查，调整治疗方案\n",
      "\n",
      "## 生活方式调整\n",
      "**饮食管理**：\n",
      "- 控制碳水化合物摄入\n",
      "- 少食多餐，避免暴饮暴食\n",
      "- 增加蔬菜、全谷物摄入\n",
      "- 限制糖分和精制食品\n",
      "\n",
      "**运动锻炼**：\n",
      "- 每周至少150分钟中等强度运动\n",
      "- 饭后适当散步有助控制血糖\n",
      "\n",
      "**体重管理**：\n",
      "- 保持健康体重\n",
      "- 减少腹部脂肪\n",
      "\n",
      "## 日常注意事项\n",
      "- 学习识别低血糖症状\n",
      "- 定期检查足部\n",
      "- 保持良好的口腔卫生\n",
      "- 戒烟限酒\n",
      "\n",
      "## 重要提醒\n",
      "**请务必与您的医生密切配合**，制定个性化的治疗计划。糖尿病是可以有效控制的疾病，通过proper management，您可以维持正常的生活质量。\n",
      "\n",
      "您目前有什么具体的担忧或问题吗？\n"
     ]
    }
   ],
   "source": [
    "messages = [\n",
    "        ChatMessage(role=\"assistant\", content=\"你是一个 helpful assistant.\"),\n",
    "        ChatMessage(role=\"user\", content=\"我得了糖尿病怎么办\")\n",
    "    ]\n",
    "response = Settings.llm.chat(messages)\n",
    "print(response)"
   ]
  }
 ],
 "metadata": {
  "kernelspec": {
   "display_name": "dev",
   "language": "python",
   "name": "python3"
  },
  "language_info": {
   "codemirror_mode": {
    "name": "ipython",
    "version": 3
   },
   "file_extension": ".py",
   "mimetype": "text/x-python",
   "name": "python",
   "nbconvert_exporter": "python",
   "pygments_lexer": "ipython3",
   "version": "3.11.13"
  }
 },
 "nbformat": 4,
 "nbformat_minor": 5
}
