{
 "cells": [
  {
   "cell_type": "code",
   "execution_count": 3,
   "id": "74499b88",
   "metadata": {},
   "outputs": [],
   "source": [
    "from llama_index.core import Settings\n",
    "from llama_index.llms.openai_like import OpenAILike\n",
    "from llama_index.core.llms import ChatMessage, MessageRole\n",
    "\n",
    "## Set models\n",
    "MODEL_NAME   = 'qwen3-coder-480b'\n",
    "LLM_API_BASE = \"http://192.168.100.30:15000/v1\"\n",
    "MAX_TOKENS   = 2048\n",
    "TIME_OUT     = 600\n",
    "\n",
    "Settings.llm = OpenAILike(\n",
    "            model=MODEL_NAME,\n",
    "            api_base=LLM_API_BASE,\n",
    "            api_key='EMPTY',\n",
    "            is_chat_model=True,\n",
    "            temperature=0.6,\n",
    "            max_tokens=MAX_TOKENS,\n",
    "            timeout=TIME_OUT,\n",
    "            # additional_kwargs={\"extra_body\": {\"chat_template_kwargs\": {\"enable_thinking\": False}}},\n",
    "        )"
   ]
  },
  {
   "cell_type": "code",
   "execution_count": null,
   "id": "abb9b28e",
   "metadata": {},
   "outputs": [],
   "source": [
    "messages = [\n",
    "        ChatMessage(role=\"assistant\", content=\"你是一个乐于助人的写代码高手\"),\n",
    "        ChatMessage(role=\"user\", content=\"帮我写一个python程序，计算29138749187 + 29138749187\")\n",
    "    ]\n",
    "response = Settings.llm.chat(messages)\n",
    "print(response)"
   ]
  }
 ],
 "metadata": {
  "kernelspec": {
   "display_name": "dev",
   "language": "python",
   "name": "python3"
  },
  "language_info": {
   "codemirror_mode": {
    "name": "ipython",
    "version": 3
   },
   "file_extension": ".py",
   "mimetype": "text/x-python",
   "name": "python",
   "nbconvert_exporter": "python",
   "pygments_lexer": "ipython3",
   "version": "3.11.13"
  }
 },
 "nbformat": 4,
 "nbformat_minor": 5
}
