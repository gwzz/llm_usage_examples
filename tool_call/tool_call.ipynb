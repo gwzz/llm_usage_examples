{
 "cells": [
  {
   "cell_type": "code",
   "execution_count": null,
   "id": "c4340782",
   "metadata": {},
   "outputs": [],
   "source": [
    "### Define the API base URL and model name\n",
    "VL_LLM_API_BASE = \"http://192.168.100.27:9602/v1\"\n",
    "VL_MODEL_NAME= 'Qwen_vl'\n",
    "VL_MAX_TOKENS=20000\n",
    "TIME_OUT = 600\n",
    "\n",
    "LLM_API_BASE = \"http://192.168.100.27:15001/v1/\"\n",
    "MODEL_NAME = \"qwen3-32b\""
   ]
  },
  {
   "cell_type": "code",
   "execution_count": null,
   "id": "38bba94b",
   "metadata": {},
   "outputs": [
    {
     "ename": "ModuleNotFoundError",
     "evalue": "No module named 'configs'",
     "output_type": "error",
     "traceback": [
      "\u001b[0;31m---------------------------------------------------------------------------\u001b[0m",
      "\u001b[0;31mModuleNotFoundError\u001b[0m                       Traceback (most recent call last)",
      "Cell \u001b[0;32mIn[1], line 5\u001b[0m\n\u001b[1;32m      3\u001b[0m \u001b[38;5;28;01mfrom\u001b[39;00m\u001b[38;5;250m \u001b[39m\u001b[38;5;21;01mllama_index\u001b[39;00m\u001b[38;5;21;01m.\u001b[39;00m\u001b[38;5;21;01mllms\u001b[39;00m\u001b[38;5;21;01m.\u001b[39;00m\u001b[38;5;21;01mopenai\u001b[39;00m\u001b[38;5;250m \u001b[39m\u001b[38;5;28;01mimport\u001b[39;00m OpenAI\n\u001b[1;32m      4\u001b[0m \u001b[38;5;28;01mfrom\u001b[39;00m\u001b[38;5;250m \u001b[39m\u001b[38;5;21;01mllama_index\u001b[39;00m\u001b[38;5;21;01m.\u001b[39;00m\u001b[38;5;21;01mllms\u001b[39;00m\u001b[38;5;21;01m.\u001b[39;00m\u001b[38;5;21;01mopenai_like\u001b[39;00m\u001b[38;5;250m \u001b[39m\u001b[38;5;28;01mimport\u001b[39;00m OpenAILike\n\u001b[0;32m----> 5\u001b[0m \u001b[38;5;28;01mfrom\u001b[39;00m\u001b[38;5;250m \u001b[39m\u001b[38;5;21;01mconfigs\u001b[39;00m\u001b[38;5;250m \u001b[39m\u001b[38;5;28;01mimport\u001b[39;00m \u001b[38;5;241m*\u001b[39m\n\u001b[1;32m      8\u001b[0m llm \u001b[38;5;241m=\u001b[39m OpenAILike(\n\u001b[1;32m      9\u001b[0m             model\u001b[38;5;241m=\u001b[39mMODEL_NAME,\n\u001b[1;32m     10\u001b[0m             api_base\u001b[38;5;241m=\u001b[39mLLM_API_BASE,\n\u001b[0;32m   (...)\u001b[0m\n\u001b[1;32m     15\u001b[0m             timeout\u001b[38;5;241m=\u001b[39mTIME_OUT,\n\u001b[1;32m     16\u001b[0m         )\n\u001b[1;32m     18\u001b[0m \u001b[38;5;66;03m# Define a simple calculator tool\u001b[39;00m\n",
      "\u001b[0;31mModuleNotFoundError\u001b[0m: No module named 'configs'"
     ]
    }
   ],
   "source": [
    "import asyncio\n",
    "from llama_index.core.agent.workflow import FunctionAgent\n",
    "from llama_index.llms.openai import OpenAI\n",
    "from llama_index.llms.openai_like import OpenAILike\n",
    "\n",
    "llm = OpenAILike(\n",
    "            model=MODEL_NAME,\n",
    "            api_base=LLM_API_BASE,\n",
    "            api_key='EMPTY',\n",
    "            is_chat_model=True,\n",
    "            temperature=0.7,\n",
    "            # max_tokens=MAX_TOKENS,\n",
    "            timeout=TIME_OUT,\n",
    "        )\n",
    "\n",
    "# Define a simple calculator tool\n",
    "def multiply(a: float, b: float) -> float:\n",
    "    \"\"\"Useful for multiplying two numbers.\"\"\"\n",
    "    return a * b\n",
    "\n",
    "\n",
    "# Create an agent workflow with our calculator tool\n",
    "agent = FunctionAgent(\n",
    "    tools=[multiply],\n",
    "    llm=llm,\n",
    "    system_prompt=\"You are a helpful assistant that can multiply two numbers.\",\n",
    ")\n",
    "\n",
    "\n",
    "async def main():\n",
    "    # Run the agent\n",
    "    response = await agent.run(\"What is 1234 * 4567?\")\n",
    "    print(str(response))\n",
    "\n",
    "\n",
    "# Run the agent\n",
    "if __name__ == \"__main__\":\n",
    "    asyncio.run(main())"
   ]
  }
 ],
 "metadata": {
  "kernelspec": {
   "display_name": "dev",
   "language": "python",
   "name": "python3"
  },
  "language_info": {
   "codemirror_mode": {
    "name": "ipython",
    "version": 3
   },
   "file_extension": ".py",
   "mimetype": "text/x-python",
   "name": "python",
   "nbconvert_exporter": "python",
   "pygments_lexer": "ipython3",
   "version": "3.11.13"
  }
 },
 "nbformat": 4,
 "nbformat_minor": 5
}
